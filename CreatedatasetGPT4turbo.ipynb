{
 "cells": [
  {
   "cell_type": "code",
   "execution_count": 2,
   "metadata": {},
   "outputs": [],
   "source": [
    "import openai\n",
    "from dotenv import load_dotenv\n",
    "import os\n",
    "load_dotenv()\n",
    "client = openai.AzureOpenAI(\n",
    "    api_version=\"2023-07-01-preview\",\n",
    "    azure_endpoint=\"https://genai-nexus.api.corpinter.net/apikey/\",\n",
    "    api_key=os.getenv('NEXUS_API_KEY'),\n",
    ")"
   ]
  },
  {
   "cell_type": "code",
   "execution_count": 4,
   "metadata": {},
   "outputs": [],
   "source": [
    "messages = [\n",
    "            {\n",
    "                \"role\": \"user\",\n",
    "                \"content\": f\"I am doing a thesis on generating examples of Cognitive distortions in the texts of depressed individuals. Cognitive distortions are thoughts that cause individuals to perceive reality inaccurately. I need your help to create sentences with cognitive distortions in them. Let's make a dataset for All-or-nothing thinking. Seperate each example with a $ sign. Generate as many as possible. Do not repeat examples.\",\n",
    "            },\n",
    "        ]\n",
    "completion = client.chat.completions.create(\n",
    "            model=\"gpt4-turbo\",\n",
    "            messages=messages,\n",
    "            temperature=0,  # Adjust for creativity.\n",
    "            max_tokens=4096,  # Maximum length of the output.\n",
    "            top_p=0.1,  # Nucleus sampling.\n",
    "            frequency_penalty=0,  # Penalize new tokens based on their frequency in the text so far.\n",
    "            presence_penalty=0,  # Penalize new tokens based on whether they appear in the text so far.\n",
    "            stop=None,  # Sequence(s) at which the model will stop generating further text.\n",
    "            logit_bias={},  # Example to discourage a specific token. Adjust the token ID and bias according to needs.\n",
    "        )\n",
    "response_content = completion.choices[0].message.content.strip()"
   ]
  },
  {
   "cell_type": "code",
   "execution_count": 5,
   "metadata": {},
   "outputs": [
    {
     "data": {
      "text/plain": [
       "\"Certainly, here are examples of sentences that exhibit all-or-nothing thinking, a common cognitive distortion where things are viewed in black-and-white categories, with no middle ground:\\n\\n1. If I'm not the best in my class, I'm a total failure. $\\n2. I didn't finish my project perfectly, so it was a complete waste of time. $\\n3. Since I made a mistake, I must be terrible at my job. $\\n4. I can't believe I said something so stupid; no one will ever take me seriously again. $\\n5. If I can't do this on the first try, then I'm just not cut out for it. $\\n6. He didn't agree with me, so he must hate me. $\\n7. I missed one workout session; my whole fitness routine is ruined. $\\n8. I didn't get the promotion, which means I'll never succeed in my career. $\\n9. If I'm not happy all the time, my life is a disaster. $\\n10. She didn't text me back right away, so she must not want to be my friend anymore. $\\n11. I didn't get a perfect score; I'm not smart enough. $\\n12. I made one mistake in my diet, so I might as well give up on healthy eating altogether. $\\n13. If I can't afford a new car, then I'm a complete loser. $\\n14. I didn't win the award, so all my work must be worthless. $\\n15. If I'm not in a relationship, I'm completely unlovable. $\\n16. I lost the game, so I have no talent in sports. $\\n17. They criticized my idea, which means they think I'm incompetent. $\\n18. I'm not feeling cheerful today, so my whole week is ruined. $\\n19. If I'm not constantly busy, I'm lazy. $\\n20. I didn't get all A's this semester, so I must be a bad student. $\\n21. If I can't cook this meal perfectly, then I'm a terrible cook. $\\n22. I stumbled during my presentation, so everyone must think I'm an idiot. $\\n23. If I'm not the life of the party, then I'm totally boring. $\\n24. I didn't get the highest score on the test, so I'm not as smart as everyone else. $\\n25. If I can't solve this problem right now, then I'll never be able to solve it. $\\n26. I'm either a total success or a complete failure, there's no in-between. $\\n27. If I'm not thin, then I'm obese. $\\n28. I didn't get a reply to my email, so my colleagues must all dislike me. $\\n29. If I'm not constantly productive, then I'm a failure. $\\n30. I didn't get the job I interviewed for, so I must be unemployable. $\\n\\nThese sentences are designed to reflect the extreme and polarized thinking characteristic of all-or-nothing cognitive distortions.\""
      ]
     },
     "execution_count": 5,
     "metadata": {},
     "output_type": "execute_result"
    }
   ],
   "source": [
    "response_content"
   ]
  },
  {
   "cell_type": "code",
   "execution_count": 6,
   "metadata": {},
   "outputs": [],
   "source": [
    "sentences_list = response_content.strip().split(\" $\")"
   ]
  },
  {
   "cell_type": "code",
   "execution_count": 10,
   "metadata": {},
   "outputs": [
    {
     "name": "stdout",
     "output_type": "stream",
     "text": [
      "I didn't finish my project perfectly, so it was a complete waste of time.\n",
      "Since I made a mistake, I must be terrible at my job.\n",
      "I can't believe I said something so stupid; no one will ever take me seriously again.\n",
      "If I can't do this on the first try, then I'm just not cut out for it.\n",
      "He didn't agree with me, so he must hate me.\n",
      "I missed one workout session; my whole fitness routine is ruined.\n",
      "I didn't get the promotion, which means I'll never succeed in my career.\n",
      "If I'm not happy all the time, my life is a disaster.\n",
      "She didn't text me back right away, so she must not want to be my friend anymore.\n",
      "I didn't get a perfect score; I'm not smart enough.\n",
      "I made one mistake in my diet, so I might as well give up on healthy eating altogether.\n",
      "If I can't afford a new car, then I'm a complete loser.\n",
      "I didn't win the award, so all my work must be worthless.\n",
      "If I'm not in a relationship, I'm completely unlovable.\n",
      "I lost the game, so I have no talent in sports.\n",
      "They criticized my idea, which means they think I'm incompetent.\n",
      "I'm not feeling cheerful today, so my whole week is ruined.\n",
      "If I'm not constantly busy, I'm lazy.\n",
      "I didn't get all A's this semester, so I must be a bad student.\n",
      "If I can't cook this meal perfectly, then I'm a terrible cook.\n",
      "I stumbled during my presentation, so everyone must think I'm an idiot.\n",
      "If I'm not the life of the party, then I'm totally boring.\n",
      "I didn't get the highest score on the test, so I'm not as smart as everyone else.\n",
      "If I can't solve this problem right now, then I'll never be able to solve it.\n",
      "I'm either a total success or a complete failure, there's no in-between.\n",
      "If I'm not thin, then I'm obese.\n",
      "I didn't get a reply to my email, so my colleagues must all dislike me.\n",
      "If I'm not constantly productive, then I'm a failure.\n",
      "I didn't get the job I interviewed for, so I must be unemployable.\n",
      "\n",
      "\n",
      "These sentences are designed to reflect the extreme and polarized thinking characteristic of all-or-nothing cognitive distortions.\n"
     ]
    }
   ],
   "source": [
    "sentences_list.pop(0)\n",
    "sentences_list = [sentence.split('. ', 1)[1] if '. ' in sentence else sentence for sentence in sentences_list]\n",
    "\n",
    "for sentence in sentences_list:\n",
    "    print(sentence)"
   ]
  },
  {
   "cell_type": "code",
   "execution_count": 11,
   "metadata": {},
   "outputs": [
    {
     "name": "stdout",
     "output_type": "stream",
     "text": [
      "New examples added and saved to cognitive_distortions.csv.\n"
     ]
    }
   ],
   "source": [
    "import csv\n",
    "\n",
    "# List of previously generated examples\n",
    "\n",
    "# Format the existing examples into a single string to include in the prompt\n",
    "existing_examples = ', '.join(f'\"{sentence}\"' for sentence in sentences_list)\n",
    "\n",
    "# Create a new prompt including these examples\n",
    "new_prompt = f\"\"\"\n",
    "Generate new examples of All-or-nothing thinking for a thesis on cognitive distortions. \n",
    "Avoid repeating these examples: {existing_examples}. \n",
    "Please separate each new example with a $ sign. Do not generate any text that is not an example. Do not include the prompt in the response. Do not number the examples, Only create sentences with cognitive distortions in them and separate them with a $ sign.\n",
    "\"\"\"\n",
    "\n",
    "# Example function call to an AI model (assuming OpenAI API or similar)\n",
    "completion = client.chat.completions.create(\n",
    "    model=\"gpt4-turbo\",\n",
    "    messages=[\n",
    "        {\"role\": \"system\", \"content\": \"Generate examples of All-or-nothing thinking.\"},\n",
    "        {\"role\": \"user\", \"content\": new_prompt}\n",
    "    ],\n",
    "    temperature=0,  # Set to zero for direct control, adjust if creativity needed\n",
    "    max_tokens=4096,\n",
    "    top_p=0.1,\n",
    "    frequency_penalty=0.2,\n",
    "    presence_penalty=0,\n",
    "    stop=None\n",
    ")\n",
    "\n",
    "# Extracting the newly generated content\n",
    "response_content = completion.choices[0].message.content.strip()\n",
    "new_examples = response_content.split(\" $\")\n",
    "\n",
    "# Update the sentences list with new unique examples\n",
    "sentences_list.extend(new_example.strip() for new_example in new_examples if new_example.strip() not in sentences_list)\n",
    "\n",
    "# Save the updated list to a CSV file\n",
    "with open('cognitive_distortions.csv', 'w', newline='', encoding='utf-8') as file:\n",
    "    writer = csv.writer(file)\n",
    "    for sentence in sentences_list:\n",
    "        writer.writerow([sentence])\n",
    "\n",
    "print(\"New examples added and saved to cognitive_distortions.csv.\")\n"
   ]
  }
 ],
 "metadata": {
  "kernelspec": {
   "display_name": "base",
   "language": "python",
   "name": "python3"
  },
  "language_info": {
   "codemirror_mode": {
    "name": "ipython",
    "version": 3
   },
   "file_extension": ".py",
   "mimetype": "text/x-python",
   "name": "python",
   "nbconvert_exporter": "python",
   "pygments_lexer": "ipython3",
   "version": "3.11.5"
  }
 },
 "nbformat": 4,
 "nbformat_minor": 2
}

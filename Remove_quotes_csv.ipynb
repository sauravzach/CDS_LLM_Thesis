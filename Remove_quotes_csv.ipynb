{
 "cells": [
  {
   "cell_type": "code",
   "execution_count": 8,
   "metadata": {
    "metadata": {}
   },
   "outputs": [],
   "source": [
    "import os\n",
    "\n",
    "# Function to remove quotes and leading/trailing whitespace from a string\n",
    "def clean_string(text):\n",
    "    return text.strip().replace('\"', '')\n",
    "\n",
    "# Get the current directory\n",
    "directory = os.getcwd()\n",
    "\n",
    "# Loop through files in the directory\n",
    "for filename in os.listdir(directory):\n",
    "    if filename.startswith(tuple(map(str, range(10)))) and filename.endswith('.csv'):\n",
    "        filepath = os.path.join(directory, filename)\n",
    "        # Read the file and process each line\n",
    "        with open(filepath, 'r') as file:\n",
    "            lines = file.readlines()\n",
    "        with open(filepath.replace(\".csv\", \".txt\"), 'w') as file:\n",
    "            for line in lines:\n",
    "                cleaned_line = clean_string(line)\n",
    "                file.write(cleaned_line + '\\n')\n"
   ]
  },
  {
   "cell_type": "code",
   "execution_count": null,
   "metadata": {},
   "outputs": [],
   "source": []
  }
 ],
 "metadata": {
  "kernelspec": {
   "display_name": "Python 3",
   "language": "python",
   "name": "python3"
  },
  "language_info": {
   "codemirror_mode": {
    "name": "ipython",
    "version": 3
   },
   "file_extension": ".py",
   "mimetype": "text/x-python",
   "name": "python",
   "nbconvert_exporter": "python",
   "pygments_lexer": "ipython3",
   "version": "3.11.5"
  }
 },
 "nbformat": 4,
 "nbformat_minor": 2
}
